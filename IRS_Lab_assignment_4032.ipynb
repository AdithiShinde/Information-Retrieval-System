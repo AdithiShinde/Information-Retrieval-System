{
  "nbformat": 4,
  "nbformat_minor": 0,
  "metadata": {
    "colab": {
      "provenance": []
    },
    "kernelspec": {
      "name": "python3",
      "display_name": "Python 3"
    },
    "language_info": {
      "name": "python"
    }
  },
  "cells": [
    {
      "cell_type": "code",
      "execution_count": 3,
      "metadata": {
        "colab": {
          "base_uri": "https://localhost:8080/"
        },
        "id": "8nUb_Upx15S7",
        "outputId": "780a74b8-5c51-4acf-b0d9-d3e5ac37c388"
      },
      "outputs": [
        {
          "output_type": "stream",
          "name": "stdout",
          "text": [
            "{'Original Word': 'unhappiness', 'Root Word (Lemma)': 'unhappiness', 'Prefix': 'un', 'Suffix': 's', 'Stem': 'happines'}\n",
            "{'Original Word': 'running', 'Root Word (Lemma)': 'running', 'Prefix': '', 'Suffix': 'ing', 'Stem': 'runn'}\n",
            "{'Original Word': 'disagree', 'Root Word (Lemma)': 'disagree', 'Prefix': 'dis', 'Suffix': '', 'Stem': 'agree'}\n",
            "{'Original Word': 'overthinking', 'Root Word (Lemma)': 'overthinking', 'Prefix': 'over', 'Suffix': 'ing', 'Stem': 'think'}\n",
            "{'Original Word': 'misunderstood', 'Root Word (Lemma)': 'misunderstood', 'Prefix': 'mis', 'Suffix': '', 'Stem': 'understood'}\n"
          ]
        },
        {
          "output_type": "stream",
          "name": "stderr",
          "text": [
            "[nltk_data] Downloading package wordnet to /root/nltk_data...\n",
            "[nltk_data]   Package wordnet is already up-to-date!\n",
            "[nltk_data] Downloading package punkt to /root/nltk_data...\n",
            "[nltk_data]   Package punkt is already up-to-date!\n"
          ]
        }
      ],
      "source": [
        "import nltk\n",
        "from nltk.stem import WordNetLemmatizer\n",
        "nltk.download('wordnet')\n",
        "nltk.download('punkt')\n",
        "lemmatizer = WordNetLemmatizer()\n",
        "def morphological_analysis(word):\n",
        "    root_word = lemmatizer.lemmatize(word)\n",
        "    prefixes = [\"un\", \"dis\", \"re\", \"pre\", \"mis\", \"in\", \"im\", \"non\", \"over\"]\n",
        "    suffixes = [\"ing\", \"ed\", \"ly\", \"es\", \"s\", \"ment\", \"ness\", \"ful\", \"able\", \"tion\"]\n",
        "    word_prefix = next((prefix for prefix in prefixes if word.startswith(prefix)), \"\")\n",
        "    word_suffix = next((suffix for suffix in suffixes if word.endswith(suffix)), \"\")\n",
        "    stem = word[len(word_prefix):] if word_prefix else word\n",
        "    stem = stem[:-len(word_suffix)] if word_suffix else stem\n",
        "    return {\n",
        "        \"Original Word\": word,\n",
        "        \"Root Word (Lemma)\": root_word,\n",
        "        \"Prefix\": word_prefix,\n",
        "        \"Suffix\": word_suffix,\n",
        "        \"Stem\": stem\n",
        "    }\n",
        "words = [\"unhappiness\", \"running\", \"disagree\", \"overthinking\", \"misunderstood\"]\n",
        "for word in words:\n",
        "    print(morphological_analysis(word))\n"
      ]
    }
  ]
}