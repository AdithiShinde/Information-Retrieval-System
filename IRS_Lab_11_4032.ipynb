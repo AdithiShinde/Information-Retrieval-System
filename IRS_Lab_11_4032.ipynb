{
  "nbformat": 4,
  "nbformat_minor": 0,
  "metadata": {
    "colab": {
      "provenance": []
    },
    "kernelspec": {
      "name": "python3",
      "display_name": "Python 3"
    },
    "language_info": {
      "name": "python"
    }
  },
  "cells": [
    {
      "cell_type": "code",
      "execution_count": 2,
      "metadata": {
        "colab": {
          "base_uri": "https://localhost:8080/"
        },
        "id": "Hz_H-PoChxYJ",
        "outputId": "0b962d68-41cb-4279-b587-a0d828df3dc4"
      },
      "outputs": [
        {
          "output_type": "stream",
          "name": "stdout",
          "text": [
            "Cosine Similarity Matrix:\n",
            " [[1.         0.44141479 0.44940353]\n",
            " [0.44141479 1.         0.48391079]\n",
            " [0.44940353 0.48391079 1.        ]]\n"
          ]
        }
      ],
      "source": [
        "import numpy as np\n",
        "from sklearn.feature_extraction.text import CountVectorizer\n",
        "from sklearn.metrics.pairwise import cosine_similarity\n",
        "\n",
        "documents = [\n",
        "    \"Machine learning is a fascinating field of artificial intelligence that enables systems to learn from data and improve their performance without being explicitly programmed.\",\n",
        "    \"Deep learning is a specialized branch of machine learning that uses artificial neural networks to process large amounts of data and extract meaningful patterns.\",\n",
        "    \"Artificial intelligence is a rapidly evolving discipline that encompasses machine learning, deep learning, and other computational techniques to create intelligent systems capable of decision-making and problem-solving.\"\n",
        "]\n",
        "\n",
        "vectorizer = CountVectorizer()\n",
        "tf_matrix = vectorizer.fit_transform(documents)\n",
        "\n",
        "cosine_sim = cosine_similarity(tf_matrix)\n",
        "\n",
        "print(\"Cosine Similarity Matrix:\\n\", cosine_sim)\n"
      ]
    }
  ]
}