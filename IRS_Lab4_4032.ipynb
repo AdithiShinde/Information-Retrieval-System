{
  "nbformat": 4,
  "nbformat_minor": 0,
  "metadata": {
    "colab": {
      "provenance": []
    },
    "kernelspec": {
      "name": "python3",
      "display_name": "Python 3"
    },
    "language_info": {
      "name": "python"
    }
  },
  "cells": [
    {
      "cell_type": "code",
      "source": [
        "from collections import Counter\n",
        "import string\n",
        "text = \"The future of technology is both exciting and unpredictable. Advancements in artificial intelligence, machine learning, and automation are reshaping industries globally. As these technologies evolve, they will create new opportunities for innovation, while also presenting challenges in terms of ethics, privacy, and security. Researchers and developers are continuously working on pushing the boundaries of what machines can do. The potential for AI in healthcare, education, and transportation is vast, offering numerous possibilities for progress.\"\n",
        "stop_words = set([\n",
        "    'i', 'me', 'my', 'myself', 'we', 'our', 'ours', 'ourselves', 'you', 'your', 'yours', 'yourself', 'yourselves',\n",
        "    'he', 'him', 'his', 'himself', 'she', 'her', 'hers', 'herself', 'it', 'its', 'itself', 'they', 'them', 'their',\n",
        "    'theirs', 'themselves', 'what', 'which', 'who', 'whom', 'this', 'that', 'these', 'those', 'am', 'is', 'are', 'was',\n",
        "    'were', 'be', 'been', 'being', 'have', 'has', 'had', 'having', 'do', 'does', 'did', 'doing', 'a', 'an', 'the', 'and',\n",
        "    'but', 'if', 'or', 'because', 'as', 'until', 'while', 'of', 'at', 'by', 'for', 'with', 'about', 'against', 'between',\n",
        "    'into', 'through', 'during', 'before', 'after', 'above', 'below', 'to', 'from', 'up', 'down', 'in', 'out', 'on',\n",
        "    'off', 'over', 'under', 'again', 'further', 'then', 'once', 'here', 'there', 'when', 'where', 'why', 'how', 'all',\n",
        "    'any', 'both', 'each', 'few', 'more', 'most', 'other', 'some', 'such', 'no', 'nor', 'not', 'only', 'own', 'same',\n",
        "    'so', 'than', 'too', 'very', 's', 't', 'can', 'will', 'just', 'don', 'should', 'now', 'd', 'll', 'm', 'o', 're',\n",
        "    've', 'y', 'ain', 'aren', 'couldn', 'didn', 'doesn', 'hadn', 'hasn', 'haven', 'isn', 'ma', 'mightn', 'mustn', 'needn',\n",
        "    'shan', 'shouldn', 'wasn', 'weren', 'won', 'wouldn'\n",
        "])\n",
        "text_clean = text.translate(str.maketrans('', '', string.punctuation)).lower()\n",
        "words = text_clean.split()\n",
        "filtered_words = [word for word in words if word not in stop_words]\n",
        "word_counts = Counter(filtered_words)\n",
        "print(word_counts.most_common(10))"
      ],
      "metadata": {
        "colab": {
          "base_uri": "https://localhost:8080/"
        },
        "id": "s0PmfyVRFOpT",
        "outputId": "911dabdd-f6e4-4334-ed61-89b2649f0976"
      },
      "execution_count": 24,
      "outputs": [
        {
          "output_type": "stream",
          "name": "stdout",
          "text": [
            "[('future', 1), ('technology', 1), ('exciting', 1), ('unpredictable', 1), ('advancements', 1), ('artificial', 1), ('intelligence', 1), ('machine', 1), ('learning', 1), ('automation', 1)]\n"
          ]
        }
      ]
    },
    {
      "cell_type": "code",
      "source": [
        "import random\n",
        "import string\n",
        "text = \"The future of technology is both exciting and unpredictable. Advancements in artificial intelligence, machine learning, and automation are reshaping industries globally. As these technologies evolve, they will create new opportunities for innovation, while also presenting challenges in terms of ethics, privacy, and security. Researchers and developers are continuously working on pushing the boundaries of what machines can do. The potential for AI in healthcare, education, and transportation is vast, offering numerous possibilities for progress.\"\n",
        "text_clean = text.translate(str.maketrans('', '', string.punctuation)).lower()\n",
        "tokens = text_clean.split()\n",
        "bigrams = list(zip(tokens[:-1], tokens[1:]))\n",
        "trigrams = list(zip(tokens[:-2], tokens[1:-1], tokens[2:]))\n",
        "bigram_dict = {}\n",
        "trigram_dict = {}\n",
        "for w1, w2 in bigrams:\n",
        "    if w1 not in bigram_dict:\n",
        "        bigram_dict[w1] = [w2]\n",
        "    else:\n",
        "        bigram_dict[w1].append(w2)\n",
        "for w1, w2, w3 in trigrams:\n",
        "    if (w1, w2) not in trigram_dict:\n",
        "        trigram_dict[(w1, w2)] = [w3]\n",
        "    else:\n",
        "        trigram_dict[(w1, w2)].append(w3)\n",
        "def generate_text(start_word, num_words):\n",
        "    current_word = start_word\n",
        "    generated_text = [current_word]\n",
        "    while len(generated_text) < num_words:\n",
        "        if len(generated_text) > 1:\n",
        "            last_two_words = (generated_text[-2], generated_text[-1])\n",
        "            if last_two_words in trigram_dict:\n",
        "                next_word = random.choice(trigram_dict[last_two_words])\n",
        "            else:\n",
        "                next_word = random.choice(bigram_dict.get(generated_text[-1], [\"\"]))\n",
        "        else:\n",
        "            next_word = random.choice(bigram_dict.get(current_word, [\"\"]))\n",
        "        generated_text.append(next_word)\n",
        "        current_word = next_word\n",
        "    return ' '.join(generated_text)\n",
        "generated_text = generate_text('artificial', 10)\n",
        "print(generated_text)"
      ],
      "metadata": {
        "colab": {
          "base_uri": "https://localhost:8080/"
        },
        "id": "LMFvX-2KRGeF",
        "outputId": "aa5c22d1-8081-4590-ef10-9b2999b3413c"
      },
      "execution_count": 25,
      "outputs": [
        {
          "output_type": "stream",
          "name": "stdout",
          "text": [
            "artificial intelligence machine learning and automation are reshaping industries globally\n"
          ]
        }
      ]
    },
    {
      "cell_type": "code",
      "source": [
        "import nltk\n",
        "nltk.download('punkt_tab')\n",
        "from nltk.tokenize import word_tokenize\n",
        "from nltk.corpus import stopwords\n",
        "from nltk.stem import PorterStemmer, WordNetLemmatizer\n",
        "nltk.download('stopwords')\n",
        "nltk.download('wordnet')\n",
        "text = \"The quick brown fox jumps over the lazy dog. The dog was very lazy.\"\n",
        "tokens = word_tokenize(text.lower())\n",
        "stop_words = set(stopwords.words('english'))\n",
        "filtered_tokens = [word for word in tokens if word.isalnum() and word not in stop_words]\n",
        "stemmer = PorterStemmer()\n",
        "stemmed_words = [stemmer.stem(word) for word in filtered_tokens]\n",
        "lemmatizer = WordNetLemmatizer()\n",
        "lemmatized_words = [lemmatizer.lemmatize(word) for word in filtered_tokens]\n",
        "print(\"Tokens:\", tokens)\n",
        "print(\"Filtered Tokens:\", filtered_tokens)\n",
        "print(\"Stemmed Words:\", stemmed_words)\n",
        "print(\"Lemmatized Words:\", lemmatized_words)"
      ],
      "metadata": {
        "colab": {
          "base_uri": "https://localhost:8080/"
        },
        "id": "lgbho5oiRI5_",
        "outputId": "2820973b-a011-4f46-ca5f-2a4a990859fc"
      },
      "execution_count": 26,
      "outputs": [
        {
          "output_type": "stream",
          "name": "stderr",
          "text": [
            "[nltk_data] Downloading package punkt_tab to /root/nltk_data...\n",
            "[nltk_data]   Package punkt_tab is already up-to-date!\n",
            "[nltk_data] Downloading package stopwords to /root/nltk_data...\n",
            "[nltk_data]   Package stopwords is already up-to-date!\n",
            "[nltk_data] Downloading package wordnet to /root/nltk_data...\n"
          ]
        },
        {
          "output_type": "stream",
          "name": "stdout",
          "text": [
            "Tokens: ['the', 'quick', 'brown', 'fox', 'jumps', 'over', 'the', 'lazy', 'dog', '.', 'the', 'dog', 'was', 'very', 'lazy', '.']\n",
            "Filtered Tokens: ['quick', 'brown', 'fox', 'jumps', 'lazy', 'dog', 'dog', 'lazy']\n",
            "Stemmed Words: ['quick', 'brown', 'fox', 'jump', 'lazi', 'dog', 'dog', 'lazi']\n",
            "Lemmatized Words: ['quick', 'brown', 'fox', 'jump', 'lazy', 'dog', 'dog', 'lazy']\n"
          ]
        }
      ]
    },
    {
      "cell_type": "code",
      "source": [
        "from collections import Counter\n",
        "import matplotlib.pyplot as plt\n",
        "word_freq = Counter(filtered_tokens)\n",
        "print(\"Word Frequency:\", word_freq)\n",
        "plt.figure(figsize=(10, 5))\n",
        "plt.bar(word_freq.keys(), word_freq.values())\n",
        "plt.xlabel('Words')\n",
        "plt.ylabel('Frequency')\n",
        "plt.title('Word Frequency Distribution')\n",
        "plt.show()\n"
      ],
      "metadata": {
        "colab": {
          "base_uri": "https://localhost:8080/",
          "height": 504
        },
        "id": "NS2Ch9aUROEt",
        "outputId": "ea341da0-4c7e-415d-810b-51842c8e9bb2"
      },
      "execution_count": 27,
      "outputs": [
        {
          "output_type": "stream",
          "name": "stdout",
          "text": [
            "Word Frequency: Counter({'lazy': 2, 'dog': 2, 'quick': 1, 'brown': 1, 'fox': 1, 'jumps': 1})\n"
          ]
        },
        {
          "output_type": "display_data",
          "data": {
            "text/plain": [
              "<Figure size 1000x500 with 1 Axes>"
            ],
            "image/png": "[encoded data removed]"
          },
          "metadata": {}
        }
      ]
    },
    {
      "cell_type": "code",
      "source": [
        "from nltk.util import bigrams, trigrams\n",
        "bigrams_list = list(bigrams(filtered_tokens))\n",
        "trigrams_list = list(trigrams(filtered_tokens))\n",
        "print(\"Bigrams:\", bigrams_list)\n",
        "print(\"Trigrams:\", trigrams_list)"
      ],
      "metadata": {
        "colab": {
          "base_uri": "https://localhost:8080/"
        },
        "id": "mcXax1FHRTNn",
        "outputId": "69baf57e-cc9f-46a1-dbb6-4ddedf484d12"
      },
      "execution_count": 28,
      "outputs": [
        {
          "output_type": "stream",
          "name": "stdout",
          "text": [
            "Bigrams: [('quick', 'brown'), ('brown', 'fox'), ('fox', 'jumps'), ('jumps', 'lazy'), ('lazy', 'dog'), ('dog', 'dog'), ('dog', 'lazy')]\n",
            "Trigrams: [('quick', 'brown', 'fox'), ('brown', 'fox', 'jumps'), ('fox', 'jumps', 'lazy'), ('jumps', 'lazy', 'dog'), ('lazy', 'dog', 'dog'), ('dog', 'dog', 'lazy')]\n"
          ]
        }
      ]
    },
    {
      "cell_type": "code",
      "source": [
        "import random\n",
        "word_dict = {}\n",
        "for word1, word2 in bigrams_list:\n",
        "    if word1 in word_dict:\n",
        "        word_dict[word1].append(word2)\n",
        "    else:\n",
        "        word_dict[word1] = [word2]\n",
        "word = random.choice(list(word_dict.keys()))\n",
        "generated_sentence = [word]\n",
        "\n",
        "for _ in range(10):\n",
        "    next_word = random.choice(word_dict.get(word, [\".\"]))\n",
        "    generated_sentence.append(next_word)\n",
        "    word = next_word\n",
        "\n",
        "print(\"Generated Text:\", \" \".join(generated_sentence))"
      ],
      "metadata": {
        "colab": {
          "base_uri": "https://localhost:8080/"
        },
        "id": "m8zNjCfTRWTY",
        "outputId": "3ba28030-7ec3-4007-c8e0-dacdc4b2d8f8"
      },
      "execution_count": 29,
      "outputs": [
        {
          "output_type": "stream",
          "name": "stdout",
          "text": [
            "Generated Text: fox jumps lazy dog lazy dog lazy dog lazy dog lazy\n"
          ]
        }
      ]
    },
    {
      "cell_type": "code",
      "source": [
        "from transformers import pipeline\n",
        "generator = pipeline(\"text-generation\", model=\"gpt2\")\n",
        "generated_text = generator(\"The quick brown fox\", max_length=50, num_return_sequences=1)\n",
        "print(\"GPT-2 Generated Text:\", generated_text[0]['generated_text'])"
      ],
      "metadata": {
        "colab": {
          "base_uri": "https://localhost:8080/"
        },
        "id": "xUfhjnT-RXC8",
        "outputId": "987cd466-d885-4bfe-8664-5003b95de568"
      },
      "execution_count": 30,
      "outputs": [
        {
          "output_type": "stream",
          "name": "stderr",
          "text": [
            "Device set to use cpu\n",
            "Truncation was not explicitly activated but `max_length` is provided a specific value, please use `truncation=True` to explicitly truncate examples to max length. Defaulting to 'longest_first' truncation strategy. If you encode pairs of sequences (GLUE-style) with the tokenizer you can select this strategy more precisely by providing a specific strategy to `truncation`.\n",
            "Setting `pad_token_id` to `eos_token_id`:50256 for open-end generation.\n"
          ]
        },
        {
          "output_type": "stream",
          "name": "stdout",
          "text": [
            "GPT-2 Generated Text: The quick brown foxes are not the strongest in sight of the beasts of prey. Those who know how to fight are more skilled than the hunters, but can't fight against the wolves with bare arms. As they fight, that's when they learn\n"
          ]
        }
      ]
    }
  ]
}